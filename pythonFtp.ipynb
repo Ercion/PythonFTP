{
 "cells": [
  {
   "cell_type": "markdown",
   "metadata": {},
   "source": [
    "What is FTP?\n",
    "FTP is a standard network protocol that allows for the transfer files from one computer to another over a network. \n",
    "\n",
    "<b> Getting Started with FTP in Python </b>\n"
   ]
  },
  {
   "cell_type": "markdown",
   "metadata": {},
   "source": [
    "We will import FTP module from ftplib library"
   ]
  },
  {
   "cell_type": "code",
   "execution_count": 3,
   "metadata": {},
   "outputs": [],
   "source": [
    "from ftplib import FTP"
   ]
  },
  {
   "cell_type": "markdown",
   "metadata": {},
   "source": [
    "connect to ftp server  -- https://dlptest.com/ftp-test/"
   ]
  },
  {
   "cell_type": "code",
   "execution_count": 4,
   "metadata": {},
   "outputs": [],
   "source": [
    "def ftpLogin():\n",
    "    global ftp \n",
    "    ftp = FTP('ftp.dlptest.com')\n",
    "    ftp.login('dlpuser@dlptest.com','fLDScD4Ynth0p4OJ6bW6qCxjh')  # And login here # you can find up to date password\n",
    "    \n",
    "ftpLogin()"
   ]
  },
  {
   "cell_type": "markdown",
   "metadata": {},
   "source": [
    "list directory"
   ]
  },
  {
   "cell_type": "code",
   "execution_count": 5,
   "metadata": {},
   "outputs": [
    {
     "name": "stdout",
     "output_type": "stream",
     "text": [
      "drwx------    2 dlptest9   dlptest9        69632 Jul 26 03:41 .\n",
      "drwx------    2 dlptest9   dlptest9        69632 Jul 26 03:41 ..\n",
      "-rw-r--r--    1 dlptest9   dlptest9    100871474 Jul 26 03:33 .pureftpd-rename.72235.c5cc3b5b\n",
      "-rw-r--r--    1 dlptest9   dlptest9            0 Jul 26 03:33 133960507.txt\n",
      "-rw-r--r--    1 dlptest9   dlptest9            0 Jul 26 03:31 155016129.txt\n",
      "-rw-r--r--    1 dlptest9   dlptest9            0 Jul 26 03:33 412291072.txt\n",
      "-rw-r--r--    1 dlptest9   dlptest9            0 Jul 26 03:33 423727269.txt\n",
      "-rw-r--r--    1 dlptest9   dlptest9            0 Jul 26 03:38 459219229.txt\n",
      "-rw-r--r--    1 dlptest9   dlptest9            0 Jul 26 03:38 551856954.txt\n",
      "-rw-r--r--    1 dlptest9   dlptest9            0 Jul 26 03:34 671194474.txt\n",
      "-rw-r--r--    1 dlptest9   dlptest9            0 Jul 26 03:38 676804653.txt\n",
      "-rw-r--r--    1 dlptest9   dlptest9            0 Jul 26 03:37 814472120.txt\n",
      "-rw-r--r--    1 dlptest9   dlptest9        10250 Jul 26 03:40 941974574.txt\n",
      "-rw-r--r--    1 dlptest9   dlptest9         5075 Jul 26 03:36 CAFECAFECAFE0003 TA153 Data 2019-07-26 08:36:00 UTC.txt\n",
      "-rw-r--r--    1 dlptest9   dlptest9         6112 Jul 26 03:36 CAFECAFECAFE0005 TA152 Data 2019-07-26 08:36:00 UTC.txt\n",
      "-rw-r--r--    1 dlptest9   dlptest9           11 Jul 26 03:35 Test.txt\n",
      "-rw-r--r--    1 dlptest9   dlptest9           24 Jul 26 03:35 syslogtest_be.txt\n"
     ]
    }
   ],
   "source": [
    "ftp.dir()"
   ]
  },
  {
   "cell_type": "markdown",
   "metadata": {},
   "source": [
    "The pwd tool prints the name of the present/current working directory"
   ]
  },
  {
   "cell_type": "code",
   "execution_count": 6,
   "metadata": {},
   "outputs": [
    {
     "data": {
      "text/plain": [
       "'/'"
      ]
     },
     "execution_count": 6,
     "metadata": {},
     "output_type": "execute_result"
    }
   ],
   "source": [
    "ftp.pwd()"
   ]
  },
  {
   "cell_type": "code",
   "execution_count": 7,
   "metadata": {},
   "outputs": [
    {
     "data": {
      "text/plain": [
       "'ERCAN'"
      ]
     },
     "execution_count": 7,
     "metadata": {},
     "output_type": "execute_result"
    }
   ],
   "source": [
    "ftp.mkd('ERCAN')"
   ]
  },
  {
   "cell_type": "markdown",
   "metadata": {},
   "source": [
    "The mkdir command creates new directories in your file system."
   ]
  },
  {
   "cell_type": "code",
   "execution_count": 8,
   "metadata": {},
   "outputs": [
    {
     "name": "stdout",
     "output_type": "stream",
     "text": [
      "drwx------    3 dlptest9   dlptest9        69632 Jul 26 03:41 .\n",
      "drwx------    3 dlptest9   dlptest9        69632 Jul 26 03:41 ..\n",
      "-rw-r--r--    1 dlptest9   dlptest9    100871474 Jul 26 03:33 .pureftpd-rename.72235.c5cc3b5b\n",
      "-rw-r--r--    1 dlptest9   dlptest9            0 Jul 26 03:33 133960507.txt\n",
      "-rw-r--r--    1 dlptest9   dlptest9            0 Jul 26 03:31 155016129.txt\n",
      "-rw-r--r--    1 dlptest9   dlptest9            0 Jul 26 03:33 412291072.txt\n",
      "-rw-r--r--    1 dlptest9   dlptest9            0 Jul 26 03:33 423727269.txt\n",
      "-rw-r--r--    1 dlptest9   dlptest9            0 Jul 26 03:38 459219229.txt\n",
      "-rw-r--r--    1 dlptest9   dlptest9            0 Jul 26 03:38 551856954.txt\n",
      "-rw-r--r--    1 dlptest9   dlptest9            0 Jul 26 03:34 671194474.txt\n",
      "-rw-r--r--    1 dlptest9   dlptest9            0 Jul 26 03:38 676804653.txt\n",
      "-rw-r--r--    1 dlptest9   dlptest9            0 Jul 26 03:37 814472120.txt\n",
      "-rw-r--r--    1 dlptest9   dlptest9        10250 Jul 26 03:40 941974574.txt\n",
      "-rw-r--r--    1 dlptest9   dlptest9         5075 Jul 26 03:36 CAFECAFECAFE0003 TA153 Data 2019-07-26 08:36:00 UTC.txt\n",
      "-rw-r--r--    1 dlptest9   dlptest9         6112 Jul 26 03:36 CAFECAFECAFE0005 TA152 Data 2019-07-26 08:36:00 UTC.txt\n",
      "drwxr-xr-x    2 dlptest9   dlptest9         4096 Jul 26 03:41 ERCAN\n",
      "-rw-r--r--    1 dlptest9   dlptest9           11 Jul 26 03:35 Test.txt\n",
      "-rw-r--r--    1 dlptest9   dlptest9           24 Jul 26 03:35 syslogtest_be.txt\n"
     ]
    }
   ],
   "source": [
    "ftp.dir()"
   ]
  },
  {
   "cell_type": "code",
   "execution_count": 9,
   "metadata": {},
   "outputs": [
    {
     "data": {
      "text/plain": [
       "'250 OK. Current directory is /ERCAN'"
      ]
     },
     "execution_count": 9,
     "metadata": {},
     "output_type": "execute_result"
    }
   ],
   "source": [
    "ftp.cwd('/ERCAN/')  # change directory"
   ]
  },
  {
   "cell_type": "code",
   "execution_count": 10,
   "metadata": {},
   "outputs": [
    {
     "name": "stdout",
     "output_type": "stream",
     "text": [
      "drwxr-xr-x    2 dlptest9   dlptest9         4096 Jul 26 03:41 .\n",
      "drwx------    3 dlptest9   dlptest9        69632 Jul 26 03:41 ..\n"
     ]
    }
   ],
   "source": [
    "ftp.dir()"
   ]
  },
  {
   "cell_type": "markdown",
   "metadata": {},
   "source": [
    "<b>Upload File</b>"
   ]
  },
  {
   "cell_type": "markdown",
   "metadata": {},
   "source": [
    "storbinary(command, fp[, blocksize, callback, rest])\n",
    "Store a file in binary transfer mode. command should be an appropriate STOR command: \"STOR filename\".\n",
    "fp is an open file object which is read until EOF using its read() method in blocks of size blocksize\n",
    "to provide the data to be stored. The blocksize argument defaults to 8192. callback is an optional single \n",
    "parameter callable that is called on each block of data after it is sent.\n",
    "\n",
    "storlines(command, fp[, callback])\n",
    "Store a file in ASCII transfer mode. command should be an appropriate STOR command (see storbinary()). \n",
    "Lines are read until EOF from the open file object fp using its readline() method to provide the data to be stored. \n",
    "callback is an optional single parameter callable that is called on each line after it is sent."
   ]
  },
  {
   "cell_type": "code",
   "execution_count": 11,
   "metadata": {},
   "outputs": [],
   "source": [
    "def uploadFile(ftp, file):\n",
    "    ftpLogin()\n",
    "    filename=\"erc.txt\"\n",
    "    myfile=open(file,'rb')\n",
    "    ftp.storlines(\"STOR \" + filename, myfile)\n",
    "    ftp.quit()\n",
    "    myfile.close()  "
   ]
  },
  {
   "cell_type": "markdown",
   "metadata": {},
   "source": [
    "<b>Download file </b>\n",
    "\n",
    "To download a file we use the retrbinary() function. An example below:"
   ]
  },
  {
   "cell_type": "code",
   "execution_count": 12,
   "metadata": {},
   "outputs": [],
   "source": [
    "def getFile(ftp,filename):\n",
    "    ftpLogin()\n",
    "    ftp.cwd('/ERCAN/')\n",
    "    try:\n",
    "        print(\"Downloading...\" + filename)\n",
    "        ftp.retrbinary(\"RETR \" + filename ,open(\"C:/yourWorkPlace/rec.txt/\" + \"youralias.txt\", 'wb').write)\n",
    "        ftp.quit()\n",
    "    except:\n",
    "        print(\"ERROR!!!\")\n",
    "    "
   ]
  },
  {
   "cell_type": "code",
   "execution_count": 13,
   "metadata": {},
   "outputs": [
    {
     "ename": "FileNotFoundError",
     "evalue": "[Errno 2] No such file or directory: 'C:/Users/kullanıcı/WorkPlace/rec.txt'",
     "output_type": "error",
     "traceback": [
      "\u001b[1;31m---------------------------------------------------------------------------\u001b[0m",
      "\u001b[1;31mFileNotFoundError\u001b[0m                         Traceback (most recent call last)",
      "\u001b[1;32m<ipython-input-13-84b8bc04c8dd>\u001b[0m in \u001b[0;36m<module>\u001b[1;34m\u001b[0m\n\u001b[1;32m----> 1\u001b[1;33m \u001b[0muploadFile\u001b[0m\u001b[1;33m(\u001b[0m\u001b[0mftp\u001b[0m\u001b[1;33m,\u001b[0m\u001b[1;34m'C:/Users/kullanıcı/WorkPlace/rec.txt'\u001b[0m\u001b[1;33m)\u001b[0m\u001b[1;33m\u001b[0m\u001b[1;33m\u001b[0m\u001b[0m\n\u001b[0m",
      "\u001b[1;32m<ipython-input-11-831b011fbe98>\u001b[0m in \u001b[0;36muploadFile\u001b[1;34m(ftp, file)\u001b[0m\n\u001b[0;32m      2\u001b[0m     \u001b[0mftpLogin\u001b[0m\u001b[1;33m(\u001b[0m\u001b[1;33m)\u001b[0m\u001b[1;33m\u001b[0m\u001b[1;33m\u001b[0m\u001b[0m\n\u001b[0;32m      3\u001b[0m     \u001b[0mfilename\u001b[0m\u001b[1;33m=\u001b[0m\u001b[1;34m\"erc.txt\"\u001b[0m\u001b[1;33m\u001b[0m\u001b[1;33m\u001b[0m\u001b[0m\n\u001b[1;32m----> 4\u001b[1;33m     \u001b[0mmyfile\u001b[0m\u001b[1;33m=\u001b[0m\u001b[0mopen\u001b[0m\u001b[1;33m(\u001b[0m\u001b[0mfile\u001b[0m\u001b[1;33m,\u001b[0m\u001b[1;34m'rb'\u001b[0m\u001b[1;33m)\u001b[0m\u001b[1;33m\u001b[0m\u001b[1;33m\u001b[0m\u001b[0m\n\u001b[0m\u001b[0;32m      5\u001b[0m     \u001b[0mftp\u001b[0m\u001b[1;33m.\u001b[0m\u001b[0mstorlines\u001b[0m\u001b[1;33m(\u001b[0m\u001b[1;34m\"STOR \"\u001b[0m \u001b[1;33m+\u001b[0m \u001b[0mfilename\u001b[0m\u001b[1;33m,\u001b[0m \u001b[0mmyfile\u001b[0m\u001b[1;33m)\u001b[0m\u001b[1;33m\u001b[0m\u001b[1;33m\u001b[0m\u001b[0m\n\u001b[0;32m      6\u001b[0m     \u001b[0mftp\u001b[0m\u001b[1;33m.\u001b[0m\u001b[0mquit\u001b[0m\u001b[1;33m(\u001b[0m\u001b[1;33m)\u001b[0m\u001b[1;33m\u001b[0m\u001b[1;33m\u001b[0m\u001b[0m\n",
      "\u001b[1;31mFileNotFoundError\u001b[0m: [Errno 2] No such file or directory: 'C:/Users/kullanıcı/WorkPlace/rec.txt'"
     ]
    }
   ],
   "source": [
    "uploadFile(ftp,'C:/yourWorkPlace/rec.txt')"
   ]
  },
  {
   "cell_type": "code",
   "execution_count": null,
   "metadata": {},
   "outputs": [],
   "source": [
    "getFile(ftp,'erc.txt')"
   ]
  },
  {
   "cell_type": "code",
   "execution_count": null,
   "metadata": {},
   "outputs": [],
   "source": []
  }
 ],
 "metadata": {
  "kernelspec": {
   "display_name": "Python 3",
   "language": "python",
   "name": "python3"
  },
  "language_info": {
   "codemirror_mode": {
    "name": "ipython",
    "version": 3
   },
   "file_extension": ".py",
   "mimetype": "text/x-python",
   "name": "python",
   "nbconvert_exporter": "python",
   "pygments_lexer": "ipython3",
   "version": "3.7.1"
  }
 },
 "nbformat": 4,
 "nbformat_minor": 2
}
